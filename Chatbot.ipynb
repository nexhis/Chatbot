{
  "nbformat": 4,
  "nbformat_minor": 0,
  "metadata": {
    "colab": {
      "provenance": [],
      "authorship_tag": "ABX9TyMHpaEgNEsXLkhYBwbMW4Kk",
      "include_colab_link": true
    },
    "kernelspec": {
      "name": "python3",
      "display_name": "Python 3"
    },
    "language_info": {
      "name": "python"
    }
  },
  "cells": [
    {
      "cell_type": "markdown",
      "metadata": {
        "id": "view-in-github",
        "colab_type": "text"
      },
      "source": [
        "<a href=\"https://colab.research.google.com/github/nexhis/Chatbot/blob/main/Chatbot.ipynb\" target=\"_parent\"><img src=\"https://colab.research.google.com/assets/colab-badge.svg\" alt=\"Open In Colab\"/></a>"
      ]
    },
    {
      "cell_type": "code",
      "execution_count": 2,
      "metadata": {
        "colab": {
          "base_uri": "https://localhost:8080/"
        },
        "id": "OFmir5e-rHk5",
        "outputId": "f1797728-bcad-4cbb-f9bc-18c3450b12ba"
      },
      "outputs": [
        {
          "output_type": "stream",
          "name": "stdout",
          "text": [
            "Looking in indexes: https://pypi.org/simple, https://us-python.pkg.dev/colab-wheels/public/simple/\n",
            "Collecting openai\n",
            "  Downloading openai-0.26.5.tar.gz (55 kB)\n",
            "\u001b[2K     \u001b[90m━━━━━━━━━━━━━━━━━━━━━━━━━━━━━━━━━━━━━━━━\u001b[0m \u001b[32m55.5/55.5 KB\u001b[0m \u001b[31m1.5 MB/s\u001b[0m eta \u001b[36m0:00:00\u001b[0m\n",
            "\u001b[?25h  Installing build dependencies ... \u001b[?25l\u001b[?25hdone\n",
            "  Getting requirements to build wheel ... \u001b[?25l\u001b[?25hdone\n",
            "  Installing backend dependencies ... \u001b[?25l\u001b[?25hdone\n",
            "  Preparing metadata (pyproject.toml) ... \u001b[?25l\u001b[?25hdone\n",
            "Requirement already satisfied: aiohttp in /usr/local/lib/python3.8/dist-packages (from openai) (3.8.3)\n",
            "Requirement already satisfied: requests>=2.20 in /usr/local/lib/python3.8/dist-packages (from openai) (2.25.1)\n",
            "Requirement already satisfied: tqdm in /usr/local/lib/python3.8/dist-packages (from openai) (4.64.1)\n",
            "Requirement already satisfied: idna<3,>=2.5 in /usr/local/lib/python3.8/dist-packages (from requests>=2.20->openai) (2.10)\n",
            "Requirement already satisfied: urllib3<1.27,>=1.21.1 in /usr/local/lib/python3.8/dist-packages (from requests>=2.20->openai) (1.24.3)\n",
            "Requirement already satisfied: certifi>=2017.4.17 in /usr/local/lib/python3.8/dist-packages (from requests>=2.20->openai) (2022.12.7)\n",
            "Requirement already satisfied: chardet<5,>=3.0.2 in /usr/local/lib/python3.8/dist-packages (from requests>=2.20->openai) (4.0.0)\n",
            "Requirement already satisfied: yarl<2.0,>=1.0 in /usr/local/lib/python3.8/dist-packages (from aiohttp->openai) (1.8.2)\n",
            "Requirement already satisfied: charset-normalizer<3.0,>=2.0 in /usr/local/lib/python3.8/dist-packages (from aiohttp->openai) (2.1.1)\n",
            "Requirement already satisfied: aiosignal>=1.1.2 in /usr/local/lib/python3.8/dist-packages (from aiohttp->openai) (1.3.1)\n",
            "Requirement already satisfied: attrs>=17.3.0 in /usr/local/lib/python3.8/dist-packages (from aiohttp->openai) (22.2.0)\n",
            "Requirement already satisfied: multidict<7.0,>=4.5 in /usr/local/lib/python3.8/dist-packages (from aiohttp->openai) (6.0.4)\n",
            "Requirement already satisfied: frozenlist>=1.1.1 in /usr/local/lib/python3.8/dist-packages (from aiohttp->openai) (1.3.3)\n",
            "Requirement already satisfied: async-timeout<5.0,>=4.0.0a3 in /usr/local/lib/python3.8/dist-packages (from aiohttp->openai) (4.0.2)\n",
            "Building wheels for collected packages: openai\n",
            "  Building wheel for openai (pyproject.toml) ... \u001b[?25l\u001b[?25hdone\n",
            "  Created wheel for openai: filename=openai-0.26.5-py3-none-any.whl size=67620 sha256=093fe597b8f1a086600c857794e72c617e529acaa8b9b4c66419e261c8c96ec7\n",
            "  Stored in directory: /root/.cache/pip/wheels/a7/47/99/8273a59fbd59c303e8ff175416d5c1c9c03a2e83ebf7525a99\n",
            "Successfully built openai\n",
            "Installing collected packages: openai\n",
            "Successfully installed openai-0.26.5\n"
          ]
        }
      ],
      "source": [
        "!pip install openai"
      ]
    },
    {
      "cell_type": "code",
      "source": [
        "!pip install gradio"
      ],
      "metadata": {
        "id": "XVWJiGP2sbf3"
      },
      "execution_count": null,
      "outputs": []
    },
    {
      "cell_type": "code",
      "source": [
        "import openai\n",
        "\n",
        "openai.api_key = 'api-key'"
      ],
      "metadata": {
        "id": "GpAjst83sj3_"
      },
      "execution_count": 3,
      "outputs": []
    },
    {
      "cell_type": "code",
      "source": [
        "bot_name = \"Chatbot:\"\n",
        "user_name = \"\\nJake:\"\n",
        "background = \"You are talking to Chatbot, who knows everything\""
      ],
      "metadata": {
        "id": "4YWl1w_cNYF4"
      },
      "execution_count": 28,
      "outputs": []
    },
    {
      "cell_type": "code",
      "source": [
        "def ask(question, chat_log=None):\n",
        "    prompt_text = f'{chat_log}{user_name}: {question}{bot_name}:'\n",
        "    response = openai.Completion.create(\n",
        "      engine='text-ada-001',\n",
        "      prompt=prompt_text,\n",
        "      temperature=0.8,\n",
        "      max_tokens=150,\n",
        "      top_p=1,\n",
        "      frequency_penalty=0,\n",
        "      presence_penalty=0.3,\n",
        "      stop=[\"\\n\"],\n",
        "    )\n",
        "    story = response['choices'][0]['text']\n",
        "    return str(story)"
      ],
      "metadata": {
        "id": "QIPCRa4lNBat"
      },
      "execution_count": 14,
      "outputs": []
    },
    {
      "cell_type": "code",
      "source": [
        "def update_chat_log(question, answer, chat_log):\n",
        "    return f'{chat_log}{user_name} {question}{bot_name}{answer}'"
      ],
      "metadata": {
        "id": "HmmvRLW8Nb1n"
      },
      "execution_count": 17,
      "outputs": []
    },
    {
      "cell_type": "code",
      "source": [
        "chat_log = background\n",
        "incoming_msg = 'Hello, are you chatbot?'\n",
        "answer = ask(incoming_msg, chat_log)\n",
        "answer"
      ],
      "metadata": {
        "colab": {
          "base_uri": "https://localhost:8080/",
          "height": 35
        },
        "id": "Mlh8R4efSs-g",
        "outputId": "293343c6-cfc3-4289-af97-7e0fee16e3bc"
      },
      "execution_count": 15,
      "outputs": [
        {
          "output_type": "execute_result",
          "data": {
            "text/plain": [
              "' Yes, I am a chatbot.'"
            ],
            "application/vnd.google.colaboratory.intrinsic+json": {
              "type": "string"
            }
          },
          "metadata": {},
          "execution_count": 15
        }
      ]
    },
    {
      "cell_type": "code",
      "source": [
        "chat_log = update_chat_log(incoming_msg, answer, chat_log)\n",
        "chat_log"
      ],
      "metadata": {
        "colab": {
          "base_uri": "https://localhost:8080/",
          "height": 35
        },
        "id": "qnhxS7DsVHTO",
        "outputId": "361180b3-40dd-461c-82e6-6c701c8b72ac"
      },
      "execution_count": 18,
      "outputs": [
        {
          "output_type": "execute_result",
          "data": {
            "text/plain": [
              "'You are talking to Chatbot, who knows everything\\n\\nJake: Hello, are you chatbot?\\nChatbot: Yes, I am a chatbot.'"
            ],
            "application/vnd.google.colaboratory.intrinsic+json": {
              "type": "string"
            }
          },
          "metadata": {},
          "execution_count": 18
        }
      ]
    },
    {
      "cell_type": "code",
      "source": [
        "chat_log = background\n",
        "incoming_msg = ''\n",
        "while incoming_msg.lower().find('bye'):\n",
        "  incoming_msg = str(input(f'{user_name} '))\n",
        "  answer = ask(incoming_msg, chat_log)\n",
        "  print(f'{bot_name}{answer}')\n",
        "  chat_log = update_chat_log(incoming_msg, answer, chat_log)"
      ],
      "metadata": {
        "colab": {
          "base_uri": "https://localhost:8080/"
        },
        "id": "j-fiD3AMYA2E",
        "outputId": "da54c2fd-510b-4c3a-db6a-5052fc4636f7"
      },
      "execution_count": 29,
      "outputs": [
        {
          "output_type": "stream",
          "name": "stdout",
          "text": [
            "\n",
            "Jake: Hello\n",
            "Chatbot:\n",
            "\n",
            "Jake: Who are you?\n",
            "Chatbot: I am the chatbot for Chatronaut.\n",
            "\n",
            "Jake: Hello, how are you?\n",
            "Chatbot: I'm good, how about you.\n",
            "\n",
            "Jake: Great\n",
            "Chatbot: You are talking to Chatbot, who knows everything.\n",
            "\n",
            "Jake: What is apple?\n",
            "Chatbot: I am not sure.\n",
            "\n",
            "Jake: Banana?\n",
            "Chatbot: No, that is not anapple.\n",
            "\n",
            "Jake: Red and sweet?\n",
            "Chatbot: Yes, that is very sweet.\n",
            "\n",
            "Jake: Cool\n",
            "Chatbot: I am not sure, that is very interesting.\n",
            "\n",
            "Jake: Got it\n",
            "Chatbot: You are talking to Chatbot, who knows everything.\n",
            "\n",
            "Jake: bye\n",
            "Chatbot: by\n"
          ]
        }
      ]
    }
  ]
}